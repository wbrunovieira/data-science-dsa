{
 "cells": [
  {
   "cell_type": "markdown",
   "metadata": {},
   "source": [
    "<!-- Projeto Desenvolvido na Data Science Academy - www.datascienceacademy.com.br -->\n",
    "# <font color='blue'>Data Science Academy</font>\n",
    "## <font color='blue'>Matemática e Estatística Aplicada Para Data Science, Machine Learning e IA</font>\n",
    "## <font color='blue'>Solução da Lista de Exercícios 1</font>\n",
    "## <font color='blue'>Matemática Fundamental com Linguagem Python</font>"
   ]
  },
  {
   "cell_type": "markdown",
   "metadata": {},
   "source": [
    "### Instalando e Carregando Pacotes"
   ]
  },
  {
   "cell_type": "code",
   "execution_count": 1,
   "metadata": {},
   "outputs": [],
   "source": [
    "# Para atualizar um pacote, execute o comando abaixo no terminal ou prompt de comando:\n",
    "# pip install -U nome_pacote\n",
    "\n",
    "# Para instalar a versão exata de um pacote, execute o comando abaixo no terminal ou prompt de comando:\n",
    "# !pip install nome_pacote==versão_desejada\n",
    "\n",
    "# Depois de instalar ou atualizar o pacote, reinicie o jupyter notebook.\n",
    "\n",
    "# Instala o pacote watermark. \n",
    "# Esse pacote é usado para gravar as versões de outros pacotes usados neste jupyter notebook.\n",
    "!pip install -q -U watermark"
   ]
  },
  {
   "cell_type": "code",
   "execution_count": 2,
   "metadata": {},
   "outputs": [
    {
     "name": "stdout",
     "output_type": "stream",
     "text": [
      "Author: Data Science Academy\n",
      "\n"
     ]
    }
   ],
   "source": [
    "# Versões dos pacotes usados neste jupyter notebook\n",
    "%reload_ext watermark\n",
    "%watermark -a \"Data Science Academy\" --iversions"
   ]
  },
  {
   "cell_type": "markdown",
   "metadata": {},
   "source": [
    "**Resolva os exercícios abaixo usando Linguagem Python. Faça pesquisa complementar se necessário.**"
   ]
  },
  {
   "cell_type": "markdown",
   "metadata": {},
   "source": [
    "### Exercício 1: Cálculo de Área de um Círculo\n",
    "\n",
    "Escreva um programa que calcula a área de um círculo. O usuário deve fornecer o raio e o programa deve retornar a área."
   ]
  },
  {
   "cell_type": "code",
   "execution_count": 3,
   "metadata": {},
   "outputs": [
    {
     "name": "stdout",
     "output_type": "stream",
     "text": [
      "Digite o raio do círculo: 43\n",
      "Área do círculo: 5808.804816487527\n"
     ]
    }
   ],
   "source": [
    "# Importa o módulo math para acessar constantes e funções matemáticas, como o valor de pi\n",
    "import math\n",
    "\n",
    "def area_circulo(raio):\n",
    "    \n",
    "    # Calcula a área do círculo usando a fórmula área = π * raio^2\n",
    "    # math.pi fornece o valor de π e raio ** 2 calcula o quadrado do raio\n",
    "    return math.pi * raio ** 2\n",
    "\n",
    "# Pede ao usuário para inserir o valor do raio do círculo e converte essa entrada em um número de ponto flutuante\n",
    "raio = float(input(\"Digite o raio do círculo: \"))\n",
    "\n",
    "# Imprime a área do círculo chamando a função area_circulo com o raio fornecido e exibindo o resultado\n",
    "print(\"Área do círculo:\", area_circulo(raio))"
   ]
  },
  {
   "cell_type": "markdown",
   "metadata": {},
   "source": [
    "### Exercício 2: Conversão de Temperatura\n",
    "\n",
    "Crie uma função que converte a temperatura de Celsius para Fahrenheit e vice-versa. O usuário deve informar a temperatura e a escala de origem."
   ]
  },
  {
   "cell_type": "code",
   "execution_count": 4,
   "metadata": {},
   "outputs": [
    {
     "name": "stdout",
     "output_type": "stream",
     "text": [
      "Digite a temperatura: 42\n",
      "Digite a escala (C para Celsius, F para Fahrenheit): C\n",
      "Temperatura em Fahrenheit: 107.6\n"
     ]
    }
   ],
   "source": [
    "# Multiplica a temperatura em Celsius por 9/5 e adiciona 32 para converter para Fahrenheit\n",
    "def celsius_para_fahrenheit(c):\n",
    "    return (c * 9/5) + 32\n",
    "\n",
    "# Subtrai 32 da temperatura em Fahrenheit e multiplica por 5/9 para converter para Celsius\n",
    "def fahrenheit_para_celsius(f):\n",
    "    return (f - 32) * 5/9\n",
    "\n",
    "# Solicita ao usuário para inserir uma temperatura e converte a entrada para um número de ponto flutuante\n",
    "temp = float(input(\"Digite a temperatura: \"))\n",
    "\n",
    "# Solicita ao usuário para escolher a escala ('C' para Celsius ou 'F' para Fahrenheit) e armazena a entrada\n",
    "escala = input(\"Digite a escala (C para Celsius, F para Fahrenheit): \")\n",
    "\n",
    "# Verifica se a escala escolhida é Celsius (transformando a entrada em maiúsculas para evitar erros)\n",
    "if escala.upper() == 'C':\n",
    "    # Se for Celsius, converte a temperatura para Fahrenheit e imprime o resultado\n",
    "    print(\"Temperatura em Fahrenheit:\", celsius_para_fahrenheit(temp))\n",
    "else:\n",
    "    # Se não for Celsius (assumindo Fahrenheit), converte a temperatura para Celsius e imprime o resultado\n",
    "    print(\"Temperatura em Celsius:\", fahrenheit_para_celsius(temp))"
   ]
  },
  {
   "cell_type": "markdown",
   "metadata": {},
   "source": [
    "### Exercício 3: Resolver uma Equação Linear\n",
    "\n",
    "Faça um programa que resolve uma equação linear do tipo ax + b = 0. Os valores de a e b são fornecidos pelo usuário."
   ]
  },
  {
   "cell_type": "code",
   "execution_count": 5,
   "metadata": {},
   "outputs": [
    {
     "name": "stdout",
     "output_type": "stream",
     "text": [
      "Digite o valor de a: 2\n",
      "Digite o valor de b: 5\n",
      "Solução da equação: -2.5\n"
     ]
    }
   ],
   "source": [
    "def resolve_linear(a, b):\n",
    "    \n",
    "    # Verifica se 'a' é zero, o que indica uma equação linear degenerada\n",
    "    if a == 0:\n",
    "        \n",
    "        # Se 'b' também for zero, a equação é indeterminada com soluções infinitas;\n",
    "        # caso contrário, é uma contradição e não tem solução\n",
    "        return \"Sem solução\" if b != 0 else \"Soluções infinitas\"\n",
    "    \n",
    "    # Se 'a' não é zero, resolve a equação linear ax + b = 0 e retorna a solução x = -b/a\n",
    "    return -b / a\n",
    "\n",
    "# Pede ao usuário para inserir o valor do coeficiente 'a' e converte a entrada para um número de ponto flutuante\n",
    "a = float(input(\"Digite o valor de a: \"))\n",
    "\n",
    "# Pede ao usuário para inserir o valor do coeficiente 'b' e converte a entrada para um número de ponto flutuante\n",
    "b = float(input(\"Digite o valor de b: \"))\n",
    "\n",
    "# Imprime a solução da equação linear chamando a função resolve_linear com os valores de 'a' e 'b'\n",
    "print(\"Solução da equação:\", resolve_linear(a, b))"
   ]
  },
  {
   "cell_type": "markdown",
   "metadata": {},
   "source": [
    "#### Exercício 4: Cálculo de Média Aritmética\n",
    "\n",
    "Escreva um programa que calcula a média aritmética de uma lista de números fornecida pelo usuário."
   ]
  },
  {
   "cell_type": "code",
   "execution_count": 6,
   "metadata": {},
   "outputs": [
    {
     "name": "stdout",
     "output_type": "stream",
     "text": [
      "Digite uma lista de números separados por espaço: 3 4 5 1 2 9\n",
      "Média aritmética: 4.0\n"
     ]
    }
   ],
   "source": [
    "def media_aritmetica(numeros):\n",
    "    \n",
    "    # Calcula a média aritmética de uma lista de números, somando todos os elementos da lista (sum(numeros))\n",
    "    # e dividindo pelo número total de elementos (len(numeros))\n",
    "    return sum(numeros) / len(numeros)\n",
    "\n",
    "# Pede ao usuário para inserir uma lista de números separados por espaço, \n",
    "# divide a string de entrada em elementos individuais com split(), \n",
    "# e converte cada elemento para um float, criando uma lista de números\n",
    "numeros = [float(n) for n in input(\"Digite uma lista de números separados por espaço: \").split()]\n",
    "\n",
    "# Imprime a média aritmética da lista de números, chamando a função media_aritmetica\n",
    "print(\"Média aritmética:\", media_aritmetica(numeros))"
   ]
  },
  {
   "cell_type": "markdown",
   "metadata": {},
   "source": [
    "### Exercício 5: Determinar as Raízes de uma Equação Quadrática\n",
    "\n",
    "Crie um programa que encontra as raízes de uma equação quadrática do tipo ax^2 + bx + c = 0. O programa deve lidar com todos os tipos de raízes (reais e complexas)."
   ]
  },
  {
   "cell_type": "code",
   "execution_count": 7,
   "metadata": {},
   "outputs": [
    {
     "name": "stdout",
     "output_type": "stream",
     "text": [
      "Digite o valor de a: 2\n",
      "Digite o valor de b: 4\n",
      "Digite o valor de c: 1\n",
      "As raízes da equação são: ((-0.2928932188134524+0j), (-1.7071067811865475+0j))\n"
     ]
    }
   ],
   "source": [
    "# Importa o módulo cmath para operações matemáticas com números complexos\n",
    "import cmath \n",
    "\n",
    "def raizes_quadraticas(a, b, c):\n",
    "    \n",
    "    # Calcula o discriminante (delta) da equação quadrática usando a fórmula delta = b^2 - 4ac\n",
    "    # cmath.sqrt é usado para lidar com raízes quadradas de números negativos (números complexos)\n",
    "    delta = cmath.sqrt(b**2 - 4*a*c)\n",
    "\n",
    "    # Calcula a primeira raiz (x1) da equação quadrática usando a fórmula x = (-b + sqrt(delta)) / 2a\n",
    "    x1 = (-b + delta) / (2*a)\n",
    "\n",
    "    # Calcula a segunda raiz (x2) da equação quadrática usando a fórmula x = (-b - sqrt(delta)) / 2a\n",
    "    x2 = (-b - delta) / (2*a)\n",
    "\n",
    "    # Retorna ambas as raízes como um par de valores\n",
    "    return (x1, x2)\n",
    "\n",
    "# Solicita ao usuário para inserir o valor do coeficiente 'a' e converte para um número de ponto flutuante\n",
    "a = float(input(\"Digite o valor de a: \"))\n",
    "\n",
    "# Solicita ao usuário para inserir o valor do coeficiente 'b' e converte para um número de ponto flutuante\n",
    "b = float(input(\"Digite o valor de b: \"))\n",
    "\n",
    "# Solicita ao usuário para inserir o valor do coeficiente 'c' e converte para um número de ponto flutuante\n",
    "c = float(input(\"Digite o valor de c: \"))\n",
    "\n",
    "# Imprime as raízes da equação quadrática, chamando a função raizes_quadraticas com os valores de 'a', 'b', e 'c'\n",
    "print(\"As raízes da equação são:\", raizes_quadraticas(a, b, c))"
   ]
  },
  {
   "cell_type": "markdown",
   "metadata": {},
   "source": [
    "### Exercício 6: Calcular o Fatorial de um Número\n",
    "\n",
    "Escreva uma função que calcula o fatorial de um número inteiro fornecido pelo usuário.\n",
    "\n",
    "O fatorial de um número inteiro não negativo n, denotado por n!, é o produto de todos os inteiros positivos menores ou iguais a n. O conceito de fatorial é amplamente utilizado em matemática, especialmente em combinações e permutações, onde é usado para calcular o número de maneiras possíveis de organizar ou escolher objetos."
   ]
  },
  {
   "cell_type": "code",
   "execution_count": 8,
   "metadata": {},
   "outputs": [
    {
     "name": "stdout",
     "output_type": "stream",
     "text": [
      "Digite um número: 8\n",
      "Fatorial: 40320\n"
     ]
    }
   ],
   "source": [
    "def fatorial(n):\n",
    "    \n",
    "    # Retorna 1 se n é 0, pois o fatorial de 0 é definido como 1\n",
    "    # Caso contrário, retorna n multiplicado pelo fatorial de n-1 (chamada recursiva),\n",
    "    # o que efetivamente constrói o produto n * (n-1) * (n-2) * ... * 1\n",
    "    return 1 if n == 0 else n * fatorial(n - 1)\n",
    "\n",
    "# Pede ao usuário para inserir um número inteiro\n",
    "num = int(input(\"Digite um número: \"))\n",
    "\n",
    "# Imprime o fatorial do número inserido, chamando a função fatorial\n",
    "print(\"Fatorial:\", fatorial(num))"
   ]
  },
  {
   "cell_type": "markdown",
   "metadata": {},
   "source": [
    "### Exercício 7: Sequência de Fibonacci\n",
    "\n",
    "Crie um programa que gera a sequência de Fibonacci até um determinado número n fornecido pelo usuário."
   ]
  },
  {
   "cell_type": "code",
   "execution_count": 9,
   "metadata": {},
   "outputs": [
    {
     "name": "stdout",
     "output_type": "stream",
     "text": [
      "Digite o número de termos da sequência de Fibonacci: 10\n",
      "Sequência de Fibonacci: [0, 1, 1, 2, 3, 5, 8, 13, 21, 34]\n"
     ]
    }
   ],
   "source": [
    "def fibonacci(n):\n",
    "    \n",
    "    # Inicializa as duas primeiras variáveis, a e b, que armazenam os dois primeiros números \n",
    "    # da sequência de Fibonacci\n",
    "    a, b = 0, 1\n",
    "\n",
    "    # Um loop que itera n vezes para gerar n termos da sequência\n",
    "    for _ in range(n):\n",
    "        \n",
    "        # Gera o valor atual de a, que é um termo da sequência de Fibonacci\n",
    "        yield a\n",
    "\n",
    "        # Atualiza os valores de a e b para os próximos dois termos na sequência\n",
    "        # a recebe o valor atual de b, e b recebe a soma dos valores anteriores de a e b\n",
    "        a, b = b, a + b\n",
    "\n",
    "# Solicita ao usuário para inserir o número de termos desejados na sequência de Fibonacci e \n",
    "# converte a entrada em um inteiro\n",
    "n = int(input(\"Digite o número de termos da sequência de Fibonacci: \"))\n",
    "\n",
    "# Imprime a sequência de Fibonacci como uma lista, convertendo o gerador em uma lista para exibir \n",
    "# todos os termos gerados\n",
    "print(\"Sequência de Fibonacci:\", list(fibonacci(n)))"
   ]
  },
  {
   "cell_type": "markdown",
   "metadata": {},
   "source": [
    "### Exercício 8: Cálculo de Juros Compostos\n",
    "\n",
    "Faça um programa que calcula o montante final de um investimento com juros compostos. O usuário deve fornecer o capital inicial, a taxa de juros anual, e o número de anos."
   ]
  },
  {
   "cell_type": "code",
   "execution_count": 10,
   "metadata": {},
   "outputs": [
    {
     "name": "stdout",
     "output_type": "stream",
     "text": [
      "Digite o capital inicial: 10000\n",
      "Digite a taxa de juros anual (em decimal): 0.05\n",
      "Digite o número de anos: 6\n",
      "Montante final: 13400.956406250005\n"
     ]
    }
   ],
   "source": [
    "def juros_compostos(capital, taxa, anos):\n",
    "    \n",
    "    # Calcula o montante final usando a fórmula de juros compostos: M = C * (1 + r)^t\n",
    "    # onde M é o montante, C é o capital inicial, r é a taxa de juros, e t é o tempo em anos\n",
    "    return capital * (1 + taxa) ** anos\n",
    "\n",
    "# Solicita ao usuário para inserir o capital inicial e converte a entrada em um número de ponto flutuante\n",
    "capital = float(input(\"Digite o capital inicial: \"))\n",
    "\n",
    "# Solicita ao usuário para inserir a taxa de juros anual (em formato decimal) e converte \n",
    "# a entrada em um número de ponto flutuante\n",
    "# Por exemplo, uma taxa de 5% deve ser inserida como 0.05\n",
    "taxa = float(input(\"Digite a taxa de juros anual (em decimal): \"))\n",
    "\n",
    "# Solicita ao usuário para inserir o número de anos e converte a entrada em um número inteiro\n",
    "anos = int(input(\"Digite o número de anos: \"))\n",
    "\n",
    "# Imprime o montante final após o período especificado, chamando a função juros_compostos \n",
    "# com os valores de capital, taxa, e anos\n",
    "print(\"Montante final:\", juros_compostos(capital, taxa, anos))"
   ]
  },
  {
   "cell_type": "markdown",
   "metadata": {},
   "source": [
    "### Exercício 9: Conversão de Moedas\n",
    "\n",
    "Escreva um programa que converte uma quantidade de uma moeda (como dólar) para outra (como euro), considerando uma taxa de câmbio fornecida pelo usuário."
   ]
  },
  {
   "cell_type": "code",
   "execution_count": 11,
   "metadata": {},
   "outputs": [
    {
     "name": "stdout",
     "output_type": "stream",
     "text": [
      "Digite o valor na moeda original: 120\n",
      "Digite a taxa de câmbio: 5.4\n",
      "Valor convertido: 648.0\n"
     ]
    }
   ],
   "source": [
    "def converter_moeda(valor, taxa_cambio):\n",
    "    \n",
    "    # Multiplica o valor na moeda original pela taxa de câmbio para obter o valor na moeda convertida\n",
    "    return valor * taxa_cambio\n",
    "\n",
    "# Pede ao usuário para inserir o valor na moeda original e converte em um número de ponto flutuante\n",
    "valor = float(input(\"Digite o valor na moeda original: \"))\n",
    "\n",
    "# Pede ao usuário para inserir a taxa de câmbio para a conversão e converte em um número de ponto flutuante\n",
    "taxa_cambio = float(input(\"Digite a taxa de câmbio: \"))\n",
    "\n",
    "# Imprime o valor convertido chamando a função converter_moeda com o valor e a taxa de câmbio\n",
    "print(\"Valor convertido:\", converter_moeda(valor, taxa_cambio))"
   ]
  },
  {
   "cell_type": "markdown",
   "metadata": {},
   "source": [
    "### Exercício 10: Verificar se um Número é Primo\n",
    "\n",
    "Crie uma função que verifica se um número fornecido pelo usuário é primo ou não.\n",
    "\n",
    "Um número primo é um número natural maior do que 1 que não tem outros divisores além de 1 e ele mesmo. Em outras palavras, um número é primo se ele só pode ser dividido de forma exata por 1 e por ele próprio. Esses números têm uma importância fundamental em várias áreas da matemática, incluindo a teoria dos números, a criptografia e a análise de algoritmos."
   ]
  },
  {
   "cell_type": "code",
   "execution_count": 12,
   "metadata": {},
   "outputs": [
    {
     "name": "stdout",
     "output_type": "stream",
     "text": [
      "Digite um número: 47\n",
      "O número é primo!\n"
     ]
    }
   ],
   "source": [
    "def e_primo(num):\n",
    "    \n",
    "    # Verifica se o número é menor que 2, pois números menores que 2 não são primos\n",
    "    if num < 2:\n",
    "        return False\n",
    "    \n",
    "    # Percorre os números de 2 até a raiz quadrada do número (arredondado para cima).\n",
    "    # Essa otimização é possível porque se um número tem um divisor maior que sua raiz quadrada,\n",
    "    # então ele também deve ter um divisor menor que a raiz quadrada.\n",
    "    for i in range(2, int(num**0.5) + 1):\n",
    "        \n",
    "        # Se o número num for divisível por i, então ele não é primo\n",
    "        if num % i == 0:\n",
    "            return False\n",
    "    \n",
    "    # Se o loop for concluído sem encontrar divisores, o número é primo\n",
    "    return True\n",
    "\n",
    "# Pede ao usuário para digitar um número e converte a entrada em um inteiro\n",
    "numero = int(input(\"Digite um número: \"))\n",
    "\n",
    "# Imprime se o número é primo ou não, utilizando a função e_primo\n",
    "print(\"O número é primo!\" if e_primo(numero) else \"O número não é primo!\")"
   ]
  },
  {
   "cell_type": "code",
   "execution_count": 13,
   "metadata": {},
   "outputs": [
    {
     "name": "stdout",
     "output_type": "stream",
     "text": [
      "Author: Data Science Academy\n",
      "\n"
     ]
    }
   ],
   "source": [
    "%reload_ext watermark\n",
    "%watermark -a \"Data Science Academy\""
   ]
  },
  {
   "cell_type": "code",
   "execution_count": 14,
   "metadata": {},
   "outputs": [],
   "source": [
    "#%watermark -v -m"
   ]
  },
  {
   "cell_type": "markdown",
   "metadata": {},
   "source": [
    "# Fim"
   ]
  }
 ],
 "metadata": {
  "kernelspec": {
   "display_name": "Python 3 (ipykernel)",
   "language": "python",
   "name": "python3"
  },
  "language_info": {
   "codemirror_mode": {
    "name": "ipython",
    "version": 3
   },
   "file_extension": ".py",
   "mimetype": "text/x-python",
   "name": "python",
   "nbconvert_exporter": "python",
   "pygments_lexer": "ipython3",
   "version": "3.11.5"
  }
 },
 "nbformat": 4,
 "nbformat_minor": 2
}
